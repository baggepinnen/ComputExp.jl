{
 "cells": [
  {
   "cell_type": "code",
   "execution_count": 2,
   "metadata": {
    "collapsed": false
   },
   "outputs": [],
   "source": [
    "#testsimp.jl\n",
    "#=\n",
    "using Missings\n",
    "function simp(; problem = missing, parameters = missing)\n",
    "    problem[:ncellsx], parameters[:a]\n",
    "end\n",
    "=#\n",
    "\n",
    "using ComputExp\n",
    "using NamedTuples\n",
    "using Query"
   ]
  },
  {
   "cell_type": "code",
   "execution_count": 3,
   "metadata": {
    "collapsed": false
   },
   "outputs": [],
   "source": [
    "db = ComputExpDB();"
   ]
  },
  {
   "cell_type": "code",
   "execution_count": 4,
   "metadata": {
    "collapsed": false
   },
   "outputs": [
    {
     "data": {
      "text/plain": [
       "Table with 1 rows, 4 columns:\n",
       "\u001b[1mID  \u001b[22mName     Version  Commit\n",
       "────────────────────────────\n",
       "1   \"Julia\"  \"0.6.2\"  \"\""
      ]
     },
     "execution_count": 4,
     "metadata": {},
     "output_type": "execute_result"
    }
   ],
   "source": [
    "New!(db, Language, name = \"Julia\", version = \"0.6.2\");\n",
    "db.language_versions_table"
   ]
  },
  {
   "cell_type": "code",
   "execution_count": 5,
   "metadata": {
    "collapsed": false
   },
   "outputs": [
    {
     "data": {
      "text/plain": [
       "Table with 1 rows, 3 columns:\n",
       "\u001b[1mID  \u001b[22mName    Description\n",
       "────────────────────────────────────────────────────────\n",
       "1   \"SIMP\"  \"Solid Isotropic Material with Penalization\""
      ]
     },
     "execution_count": 5,
     "metadata": {},
     "output_type": "execute_result"
    }
   ],
   "source": [
    "New!(db, Algorithm, name = \"SIMP\", description = \"Solid Isotropic Material with Penalization\");\n",
    "db.algorithms_table"
   ]
  },
  {
   "cell_type": "code",
   "execution_count": 6,
   "metadata": {
    "collapsed": false
   },
   "outputs": [
    {
     "data": {
      "text/plain": [
       "Table with 1 rows, 3 columns:\n",
       "\u001b[1mID  \u001b[22mName    Description\n",
       "────────────────────────────────────────────────────────\n",
       "1   \"SIMP\"  \"Solid Isotropic Material with Penalization\""
      ]
     },
     "execution_count": 6,
     "metadata": {},
     "output_type": "execute_result"
    }
   ],
   "source": [
    "db.algorithms_table"
   ]
  },
  {
   "cell_type": "code",
   "execution_count": 7,
   "metadata": {
    "collapsed": false
   },
   "outputs": [
    {
     "data": {
      "text/plain": [
       "(ID = 1, Algorithm_ID = 1, Language_ID = 1, Repository = \"TopOpt\", Commit = \"ebe741147c2d2d586aee7b21982aaba7a4491e16\", Script = \"testsimp.jl\", Function = :simp)"
      ]
     },
     "execution_count": 7,
     "metadata": {},
     "output_type": "execute_result"
    }
   ],
   "source": [
    "New!(db, Implementation, algorithm = 1, language = 1, repository = \"TopOpt\", \n",
    "    \tscript = \"testsimp.jl\", func = :simp, parameters = (:a,), \n",
    "    \tresults = (\"a\", \"b\"));\n",
    "db.implementations_table[1]"
   ]
  },
  {
   "cell_type": "code",
   "execution_count": 8,
   "metadata": {
    "collapsed": false
   },
   "outputs": [
    {
     "data": {
      "text/plain": [
       "Table with 1 rows, 4 columns:\n",
       "\u001b[1mID  \u001b[22mImplementation_ID  Parameter_symbol  Parameter_description\n",
       "──────────────────────────────────────────────────────────────\n",
       "1   1                  :a                \"\""
      ]
     },
     "execution_count": 8,
     "metadata": {},
     "output_type": "execute_result"
    }
   ],
   "source": [
    "db.implementation_parameters_table"
   ]
  },
  {
   "cell_type": "code",
   "execution_count": 9,
   "metadata": {
    "collapsed": false
   },
   "outputs": [
    {
     "data": {
      "text/plain": [
       "Table with 1 rows, 2 columns:\n",
       "\u001b[1mID  \u001b[22mDescription\n",
       "───────────────\n",
       "1   \"Half MBB\""
      ]
     },
     "execution_count": 9,
     "metadata": {},
     "output_type": "execute_result"
    }
   ],
   "source": [
    "New!(db, Problem; description = \"Half MBB\", ncellsx = 60, ncellsy = 20);\n",
    "db.problems_table"
   ]
  },
  {
   "cell_type": "code",
   "execution_count": 10,
   "metadata": {
    "collapsed": false
   },
   "outputs": [
    {
     "data": {
      "text/plain": [
       "Table with 2 rows, 4 columns:\n",
       "\u001b[1mID  \u001b[22mProblem_ID  Feature_symbol  Feature_value\n",
       "─────────────────────────────────────────────\n",
       "1   1           :ncellsx        60\n",
       "2   1           :ncellsy        20"
      ]
     },
     "execution_count": 10,
     "metadata": {},
     "output_type": "execute_result"
    }
   ],
   "source": [
    "db.problem_features_table"
   ]
  },
  {
   "cell_type": "code",
   "execution_count": 11,
   "metadata": {
    "collapsed": false
   },
   "outputs": [
    {
     "data": {
      "text/plain": [
       "Table with 1 rows, 3 columns:\n",
       "\u001b[1mID  \u001b[22mDirectory          Execute\n",
       "──────────────────────────────\n",
       "1   \"TestExperiments\"  true"
      ]
     },
     "execution_count": 11,
     "metadata": {},
     "output_type": "execute_result"
    }
   ],
   "source": [
    "New!(db, Experiment; directory = \"TestExperiments\", execute = true);\n",
    "db.experiments_table"
   ]
  },
  {
   "cell_type": "code",
   "execution_count": 12,
   "metadata": {
    "collapsed": false
   },
   "outputs": [
    {
     "data": {
      "text/plain": [
       "Table with 2 rows, 6 columns:\n",
       "\u001b[1mID  \u001b[22mExperiment_ID  Problem_ID  Implementation_ID  Executing  Executed\n",
       "─────────────────────────────────────────────────────────────────────\n",
       "1   1              1           1                  false      false\n",
       "2   1              1           1                  false      false"
      ]
     },
     "execution_count": 12,
     "metadata": {},
     "output_type": "execute_result"
    }
   ],
   "source": [
    "New!(db, Run; experiment = 1, implementation = 1, parameters = [@NT(a = 1), @NT(a = 2)], problems = 1)\n",
    "db.runs_table"
   ]
  },
  {
   "cell_type": "code",
   "execution_count": 13,
   "metadata": {
    "collapsed": false
   },
   "outputs": [
    {
     "data": {
      "text/plain": [
       "Table with 2 rows, 4 columns:\n",
       "\u001b[1mID  \u001b[22mImplementation_parameter_ID  Run_ID  Value\n",
       "──────────────────────────────────────────────\n",
       "1   1                            1       1\n",
       "2   1                            2       2"
      ]
     },
     "execution_count": 13,
     "metadata": {},
     "output_type": "execute_result"
    }
   ],
   "source": [
    "db.run_implementation_parameter_table"
   ]
  },
  {
   "cell_type": "code",
   "execution_count": 14,
   "metadata": {
    "collapsed": false
   },
   "outputs": [],
   "source": [
    "@run_exps(db)"
   ]
  },
  {
   "cell_type": "code",
   "execution_count": 21,
   "metadata": {
    "collapsed": false
   },
   "outputs": [
    {
     "data": {
      "text/plain": [
       "Table with 4 rows, 4 columns:\n",
       "\u001b[1mID  \u001b[22mImplementation_result_ID  Run_ID  Value\n",
       "───────────────────────────────────────────\n",
       "1   1                         1       60\n",
       "2   2                         1       1\n",
       "3   1                         2       60\n",
       "4   2                         2       2"
      ]
     },
     "execution_count": 21,
     "metadata": {},
     "output_type": "execute_result"
    }
   ],
   "source": [
    "db.run_implementation_result_table"
   ]
  },
  {
   "cell_type": "code",
   "execution_count": null,
   "metadata": {
    "collapsed": true
   },
   "outputs": [],
   "source": []
  }
 ],
 "metadata": {
  "kernelspec": {
   "display_name": "Julia -O3 0.6.2",
   "language": "julia",
   "name": "julia--o3-0.6"
  },
  "language_info": {
   "file_extension": ".jl",
   "mimetype": "application/julia",
   "name": "julia",
   "version": "0.6.2"
  }
 },
 "nbformat": 4,
 "nbformat_minor": 2
}
